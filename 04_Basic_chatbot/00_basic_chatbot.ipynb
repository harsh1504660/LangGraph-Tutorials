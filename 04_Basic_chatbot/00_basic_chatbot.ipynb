{
 "cells": [
  {
   "cell_type": "code",
   "execution_count": 37,
   "id": "10be3a82",
   "metadata": {},
   "outputs": [],
   "source": [
    "from langgraph.graph import StateGraph,START,END\n",
    "from langchain_huggingface import ChatHuggingFace,HuggingFaceEndpoint\n",
    "from typing import TypedDict,Annotated,Literal,Union,List\n",
    "from pydantic import BaseModel,Field\n",
    "import operator\n",
    "from langchain_core.messages import BaseMessage,SystemMessage, HumanMessage\n",
    "import json\n",
    "from langgraph.checkpoint.memory import MemorySaver"
   ]
  },
  {
   "cell_type": "code",
   "execution_count": 13,
   "id": "d177e5ae",
   "metadata": {},
   "outputs": [],
   "source": [
    "from langgraph.graph.message import add_messages\n",
    "class ChatState(TypedDict):\n",
    "    messages:Annotated[list[BaseMessage],add_messages]\n",
    "    \n",
    "\n"
   ]
  },
  {
   "cell_type": "code",
   "execution_count": null,
   "id": "4756e62f",
   "metadata": {},
   "outputs": [],
   "source": [
    "llm = HuggingFaceEndpoint(\n",
    "    repo_id=\"meta-llama/Llama-3.1-8B-Instruct\",\n",
    "    task=\"text-generation\",\n",
    "    huggingfacehub_api_token='hf_token'\n",
    "    \n",
    ")\n",
    "\n",
    "model = ChatHuggingFace(llm=llm)"
   ]
  },
  {
   "cell_type": "code",
   "execution_count": 32,
   "id": "ee1b2ed3",
   "metadata": {},
   "outputs": [],
   "source": [
    "def chat_node(state:ChatState):\n",
    "    messages = state['messages']\n",
    "\n",
    "    response=model.invoke(messages).content\n",
    "\n",
    "    return {'messages':[response]}\n"
   ]
  },
  {
   "cell_type": "code",
   "execution_count": 38,
   "id": "98a5bee5",
   "metadata": {},
   "outputs": [],
   "source": [
    "checkpointer = MemorySaver()\n",
    "graph = StateGraph(ChatState)\n",
    "\n",
    "graph.add_node('chatnode',chat_node)\n",
    "\n",
    "graph.add_edge(START,'chatnode')\n",
    "\n",
    "graph.add_edge('chatnode',END)\n",
    "\n",
    "\n",
    "chatbot = graph.compile(checkpointer=checkpointer)\n"
   ]
  },
  {
   "cell_type": "code",
   "execution_count": 39,
   "id": "50bfd1f7",
   "metadata": {},
   "outputs": [
    {
     "data": {
      "image/png": "[encoded data removed]",
      "text/plain": [
       "<langgraph.graph.state.CompiledStateGraph object at 0x00000273D2940910>"
      ]
     },
     "execution_count": 39,
     "metadata": {},
     "output_type": "execute_result"
    }
   ],
   "source": [
    "chatbot"
   ]
  },
  {
   "cell_type": "code",
   "execution_count": 35,
   "id": "384078b3",
   "metadata": {},
   "outputs": [
    {
     "data": {
      "text/plain": [
       "'The capital of India is New Delhi.'"
      ]
     },
     "execution_count": 35,
     "metadata": {},
     "output_type": "execute_result"
    }
   ],
   "source": [
    "initial_state={\n",
    "    'messages':[HumanMessage(content=\"what is the capital of india\")]\n",
    "}\n",
    "\n",
    "chatbot.invoke(initial_state)['messages'][-1].content"
   ]
  },
  {
   "cell_type": "code",
   "execution_count": 40,
   "id": "fca873a5",
   "metadata": {},
   "outputs": [
    {
     "name": "stdout",
     "output_type": "stream",
     "text": [
      "user :  hi my name is nitish\n",
      "AI :  Hello Nitish, it's nice to meet you. Is there something I can help you with or would you like to chat?\n",
      "user :  what is my name\n",
      "AI :  Your name is Nitish.\n",
      "user :  add 10 and 100\n",
      "AI :  To add 10 and 100, we need to simply add the numbers together.\n",
      "\n",
      "10 + 100 = 110\n",
      "\n",
      "So the result is 110.\n",
      "user :  now multiply it with 2\n",
      "AI :  To multiply 110 by 2, we need to simply multiply the numbers together.\n",
      "\n",
      "110 × 2 = 220\n",
      "\n",
      "So the result is 220.\n",
      "user :  bye\n"
     ]
    }
   ],
   "source": [
    "thread_id = '1'\n",
    "\n",
    "while True:\n",
    "    user_message= input('type here : ')\n",
    "    print('user : ',user_message)\n",
    "    if user_message.strip().lower() in ['exit','quit','bye']:\n",
    "        break\n",
    "\n",
    "    config = {\"configurable\":{'thread_id':thread_id}}\n",
    "    response = chatbot.invoke({'messages':[HumanMessage(content=user_message)]},config=config)\n",
    "\n",
    "    print('AI : ',response['messages'][-1].content)"
   ]
  },
  {
   "cell_type": "code",
   "execution_count": 41,
   "id": "785859b1",
   "metadata": {},
   "outputs": [
    {
     "data": {
      "text/plain": [
       "StateSnapshot(values={'messages': [HumanMessage(content='hi my name is nitish', additional_kwargs={}, response_metadata={}, id='dc273181-a829-4581-87f1-ba888dc2f9b1'), HumanMessage(content=\"Hello Nitish, it's nice to meet you. Is there something I can help you with or would you like to chat?\", additional_kwargs={}, response_metadata={}, id='8c40c5c5-c992-477c-b2f7-9c4b28be9a5e'), HumanMessage(content='what is my name', additional_kwargs={}, response_metadata={}, id='4013f836-ff4c-4aa4-bd82-3b5b5de91cb8'), HumanMessage(content='Your name is Nitish.', additional_kwargs={}, response_metadata={}, id='89b00314-880b-443c-88f9-a70d7a38a100'), HumanMessage(content='add 10 and 100', additional_kwargs={}, response_metadata={}, id='41aefdb7-1e98-4c78-9338-6c69588c2612'), HumanMessage(content='To add 10 and 100, we need to simply add the numbers together.\\n\\n10 + 100 = 110\\n\\nSo the result is 110.', additional_kwargs={}, response_metadata={}, id='3a206342-ae3d-4e1a-b4bb-cde047d4d345'), HumanMessage(content='now multiply it with 2', additional_kwargs={}, response_metadata={}, id='bce6b7b4-9f49-4163-baa9-539c8bb47215'), HumanMessage(content='To multiply 110 by 2, we need to simply multiply the numbers together.\\n\\n110 × 2 = 220\\n\\nSo the result is 220.', additional_kwargs={}, response_metadata={}, id='2992ec8b-bb1b-44db-a96a-fc981df80e3f')]}, next=(), config={'configurable': {'thread_id': '1', 'checkpoint_ns': '', 'checkpoint_id': '1f088c31-d60f-68fe-800a-447427237dbb'}}, metadata={'source': 'loop', 'step': 10, 'parents': {}}, created_at='2025-09-03T12:40:04.137991+00:00', parent_config={'configurable': {'thread_id': '1', 'checkpoint_ns': '', 'checkpoint_id': '1f088c31-d06b-6978-8009-576d90675f3c'}}, tasks=(), interrupts=())"
      ]
     },
     "execution_count": 41,
     "metadata": {},
     "output_type": "execute_result"
    }
   ],
   "source": [
    "chatbot.get_state(config=config)"
   ]
  },
  {
   "cell_type": "code",
   "execution_count": null,
   "id": "a8ee9590",
   "metadata": {},
   "outputs": [],
   "source": []
  }
 ],
 "metadata": {
  "kernelspec": {
   "display_name": "myenv",
   "language": "python",
   "name": "python3"
  },
  "language_info": {
   "codemirror_mode": {
    "name": "ipython",
    "version": 3
   },
   "file_extension": ".py",
   "mimetype": "text/x-python",
   "name": "python",
   "nbconvert_exporter": "python",
   "pygments_lexer": "ipython3",
   "version": "3.13.1"
  }
 },
 "nbformat": 4,
 "nbformat_minor": 5
}
