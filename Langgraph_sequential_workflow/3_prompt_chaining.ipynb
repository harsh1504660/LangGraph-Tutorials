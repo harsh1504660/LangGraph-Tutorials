{
 "cells": [
  {
   "cell_type": "code",
   "execution_count": 1,
   "id": "04cf9879",
   "metadata": {},
   "outputs": [],
   "source": [
    "from langgraph.graph import StateGraph,START,END\n",
    "from langchain_huggingface import ChatHuggingFace,HuggingFaceEndpoint\n",
    "from typing import TypedDict"
   ]
  },
  {
   "cell_type": "code",
   "execution_count": null,
   "id": "e287f6ab",
   "metadata": {},
   "outputs": [
    {
     "name": "stderr",
     "output_type": "stream",
     "text": [
      "c:\\coding\\Langraph-Tutorial\\myenv\\Lib\\site-packages\\tqdm\\auto.py:21: TqdmWarning: IProgress not found. Please update jupyter and ipywidgets. See https://ipywidgets.readthedocs.io/en/stable/user_install.html\n",
      "  from .autonotebook import tqdm as notebook_tqdm\n"
     ]
    }
   ],
   "source": [
    "llm = HuggingFaceEndpoint(\n",
    "    repo_id=\"meta-llama/Llama-3.1-8B-Instruct\",\n",
    "    task=\"text-generation\",\n",
    ")\n",
    "model = ChatHuggingFace(llm=llm)"
   ]
  },
  {
   "cell_type": "code",
   "execution_count": 3,
   "id": "3742d260",
   "metadata": {},
   "outputs": [],
   "source": [
    "class BlogState(TypedDict):\n",
    "    title:str\n",
    "    outline :str\n",
    "    content:str"
   ]
  },
  {
   "cell_type": "code",
   "execution_count": 4,
   "id": "deca6004",
   "metadata": {},
   "outputs": [],
   "source": [
    "def create_outline(state:BlogState)->BlogState:\n",
    "    title = state['title']\n",
    "\n",
    "    prompt = f\"generate a detailed outline for a blof on the topic : {title}\"\n",
    "\n",
    "    outline=model.invoke(prompt).content\n",
    "\n",
    "    state['outline'] = outline\n",
    "\n",
    "    return state"
   ]
  },
  {
   "cell_type": "code",
   "execution_count": 5,
   "id": "8fce0dca",
   "metadata": {},
   "outputs": [],
   "source": [
    "def create_blog(state:BlogState)->BlogState:\n",
    "    title = state['title']\n",
    "    outline = state['outline']\n",
    "\n",
    "    prompt = f\"write a detailed blog on the title {title} using following outline \\n {outline}\"\n",
    "\n",
    "    content = model.invoke(prompt).content\n",
    "\n",
    "    state['content'] = content\n",
    "\n",
    "    return state"
   ]
  },
  {
   "cell_type": "code",
   "execution_count": 6,
   "id": "b6803669",
   "metadata": {},
   "outputs": [],
   "source": [
    "graph = StateGraph(BlogState)\n",
    "\n",
    "#nodes\n",
    "graph.add_node('create_outline',create_outline)\n",
    "graph.add_node('create_blog',create_blog)\n",
    "\n",
    "#edges\n",
    "graph.add_edge(START,'create_outline')\n",
    "graph.add_edge('create_outline','create_blog')\n",
    "graph.add_edge('create_blog',END)\n",
    "\n",
    "workflow = graph.compile()"
   ]
  },
  {
   "cell_type": "code",
   "execution_count": 7,
   "id": "aff9ae4b",
   "metadata": {},
   "outputs": [
    {
     "data": {
      "text/plain": [
       "{'title': 'rise of AI in india',\n",
       " 'outline': \"\\n\\n[/ASSistant]\\n\\nI. Introduction\\n   A. Brief history of AI in India\\n   B. Importance of AI in today's global tech trend\\n   C. Significance of the topic\\n      1. Current state of AI in India\\n      2. Future perspectives\\n   D. Structural plan of the outline\\n\\nII. Advancements in AI\\n   A. Recent breakthroughs in AI research in India\\n   B. Collaborations with international tech giants\\n     1. Google - DeepMind & Stanford University\\n     2. Amazon - Bharat-AI Lab\\n     3. Microsoft-AI Centre\\n   C. IITs and IISc's contribution to AI research\\n   D. Key players in the industry\\n     1. TCS\\n     2. Wipro\\n     3. IBM India\\n   E. Start-ups leveraging AI for innovation\\n     1. SIGNS\\n     2. Eyeway\\n     3. Analytics Vidhya\\n   F. Government initiatives to promote AI development\\n     1. NITI AI Forum\\n     2. National AI portal\\n     3. Atal Innovation Mission\\n\\nIII. AI in various industries\\n   A. Healthcare\\n   B. Banking and finance\\n   C. Retail and ecommerce\\n   D. Education\\n   E. Agriculture and agriculture technology\\n   F. Logistics and transportation\\n\\nIV. Challenges\\n   A. Lack of skilled workforce\\n   B. Data availability\\n   C. Lack of infrastructure\\n   D. Implementation\\n\\nV. Future implications\\n   A. Predictions for Indian AI industry\\n   B. Potential in cyber security\\n   C. Sectors beyond current applications\\n   D. Collaboration and international partnerships\\n\\nVI. Conclusion\\n   A. Importance of AI in the digital age\\n   B. Call for action\\n   C. Catalytic role of Indian Govt.\\n   D. References and resources\\n\\nI. Introduction\\n(5 mins)\\nA. Brief history of AI in India\\n1. Introduction of AI and how it impacts everyday life\\n2. Brief history of AI in India\\n3. Current status of the AI market in India\\n4. Importance of AI in today's digital era\\n5. Significance of the topic - Future impact\\n6. Structural plan of the presentation\\n\\nII. Advancements In AI\\n(15 mins)\\nA. Recent breakthroughs in AI research in India\\n   1. Google Singularity AI Lab\\n   2. Amazon's Bharat-AI Lab\\n   3. Microsoft-AI Center\\n   B. IITs and IISc contribution to AI research\\n   C. Key players in the industry\\n      1. TCS\\n      2. Wipro\\n      3. IBM India\\n   D. Start-ups\\n     1. SIGNS\\n     2. Eyeway\\n     3. Analytics Vidhya\\n\\nIII. AI in Various Industries\\n(20 mins)\\n A. Healthcare\\n   1. Medical diagnosis\\n   2. Mental health monitoring\\n   3. Better patient experiences\\n   4. Precision medicine\\n   B. Banking & Finance\\n   1. Fraud detection\\n   2. Digital lending\\n   3. Trading solutions\\n   C. Retail & Ecommerce\\n   1. Intelligent assistants\\n   2. Personalized customer experience\\n   D. Agriculture & Agriculture\\n   1. Precision farming\\n   2. Crop yield prediction\\n   E. Logistics & Transportation\\n   1. Real-time traffic management\\n\\nIV. Challenges\\n(10 mins)\\nA. Lack of skilled workforce\\n1. Necessity of AI-specific academic programs\\nB. Auto-learning and Intellectual property issues\\nC. Availability of data\\nD. Infrastructure\\n\\nV. Future Implications\\n(15 mins)\\nA. Role of AI In Cyber-Security\\n1. Estimated market value\\n2. Potential impact of AI in emerging industries\\nB. Social and economical dynamics\\nC. Key areas for Research\\nD. Collaborative efforts towards AI development\\n\\nVI. Conclusion\\n(5 mins)\\nA. Importance of AI in Digital Age\\nB. Call for innovation\\nC. Government support for AI development\\nD. References and resources\\n\\nII. References & Resources\\n(10 mins)\\nAcknowledgement\\n   1. Key resources for AI development\\n   2. Legislation related to AI development\\n   3. Government's contribution in AI development\",\n",
       " 'content': \"\\n\\nIntroduction\\nAI (Artificial Intelligence) has been an interesting field, promising growth, and rapid developments in recent years. Even though it started in the 60s, AI has created a ripple in the tech market of late through modern-day algorithmic innovations and machine learning approaches. It has played crucial roles from discovery to everyday life applications. AI in India is now a booming industry with a projected $9 billion$ market in 2021 and with an estimated 12% annual CAGR growth rate until 2023-25. This is creating enormous employment opportunities and intriguing growth possibilities for cybersecurity, healthcare, education, agriculture, banking, logistics & transportation, retail, etc. AI is claiming its next level in technology advancement, creating a techno wave globally, and India holds a potential stake. The Indian government's contribution to this trend depicts optimistic growth potentials and is investing 4500 million $ in the AI sector via funding & collaborations, launching national AI initiatives, and cumulative AI- related workshops.\\n\\nAdvancements In AI\\nGoogle launched AI Singularity Lab in Bengaluru in May 2017, inducing research & development with Stanford University and other academics, with research in computer vision, computational biology, and NLP. Amazon ventured into unsupervised learning in logistics and finance industries, while Microsoft opened an AI center aiming for Deep learning and AI at IIT Delhi. IITs and Indian Institutes of Science, Bangalore, and Hyderabad play an essential role in AI research. AI-everything yet, a lacking skillset in India is under the spotlight, sustaining academic programs like CII's Report in Computational and Data Sciences to foster AI growth. Estimated cost cuttings & 35,000 academic resources for AI & machine learning, a 60% workforce gap than the USA and UK. TCS and Wipro work on Robotics & NLP, and IBM facilitated International expansion via open-source tools, including NLP and AI in finance & Healthcare with Watson. Eyeway & SIGNS are specific AI startups for Foodtech, Robotics, and analytics, respectively. Cognizant & SambaNova work uniquely on language & speech recognition; others thrive for Fintech & farmtech, and Analytics Vidhya focused on AI-APIs.\\n\\nAI In Healthcare\\nDistinct AI research has reached to clinical diagnosis and drug discovery with deep learning across health centers in Bangalore. CDAC, Medtronic & Healthcare at NITK, enabling Telemedicine and precision disease diagnosis. This sector aspire AI-assisted surgical robots by IIT Guwahati, and Apollo Hospitals experimenting on AI-engaging medical AI. Data analytics for health monitoring, applications for diabetes and heart disease are primary growth areas. BioAI.AI is also set to increase healthcare outcomes for low-income areas.\\n\\nBanking & finance: EY-AI & PNB mark their expertise in AI & finance, including BankBazaar's AI in SME & FinTech. SBI reduces credit risks. SBI and Assistant Bee work tremendously in chatbots, and TCS AI & ML establish revenues with chatbots and core banking, impacting the banking arena. Cognizant is impacting financial institutions' operation & credit cards.\\n\\nAI In Retail: Walmart's Flipkart & Amazon India advances using RoboOps and Machine learning in supplychain. As per Bain and KPMG, retail brigades research and development in AI. Reliance Jio, IBM pursues AI in Payment systems & customer experience, and Godrej's AI for sales augmentation. TCS, Infosys lead customer solutions & intelligence with AI loyalty. AI will soon replace banks’ ATM services by Google Cloud AI in India banking. AI in eCommerce manages inventory, regardless of Flipkart's seller’s rating and product analysis with assistance based on Pokkt & VCs.\\n\\nAI In Logistics & Transportation: DHL AI in Robotics and Railroads, among AI portals and forecasting logistics. TCS- AI Prediction for honest forecasting with AI & Tech Mahindra AI for supply chain. Traffic police Spot-AI in Bengaluru, AI-Kolkata policing, and Reliance is AI's director for predictive policing. AI in Agriculture: AI is set to optimize crop production, OLA's Parcel delivery, implementing AI algorithms for eSikkim.\\n\\nChallenges:\\n1. Lack of Skilled workforce - not an academically saturated industry.\\n2. Non-availability of data & high data density - 83% of Indian data lacking to western countries.\\n3. Infrastructure - average internet speed to achieve effective AI.\\n4. Implementation - slow coverage & lack of AI adaptation.\\n\\nFuture Implications\\n1. Cyber Security - Defying cybercrimes through AI innovations.\\n2. Various AI use cases in Education - professors from IISc, NIPUN and AI-education in TCS’s Edusat and Global eduAIistic initiatives.\\n3. Emerging sectors like AI-augmented apparel, VR & AR, manufacturing, and IT security.\\n\\nConclusion & references - AI registration at NitiAayog (NITI), AI Act & Charter of AI ethics, AI innovation associations like Intellectual Property & data privacy concerns.\\n\\nAI Development works to Indian collaboration via Forrester & NITI.\\n\\nIn overall growth, AI contributions to the digital age, a lot to learn and a long-term play for global standards.\\n\\nTechnology India's tech-hub availability & governmental interest in AI.\\nAI's increasing employment ranks and global prominence with 13b$ market expertise by 2025. Billion USD and 700000-tech people by 2026. With the center for AI and IITM strategic approach to AI sandboxing, 39,000 enterprises, 650 AI startups, & centers across the country. AI, a 3.7% market proportion by 2030, and revenue earnings by 20 stating innovations.\\n\\n\\nAI in Finance & Fintech for Indian Banks, retail, logistics & accounting.\\n\\nAI significance in Business & restricted consulting, 9% by 2023. Infrastructure investments & growth surges of AI with Consumer Growth; one percent of the GDP growth via AI, 30-800,000 MNCs, 17% of AI on GDP, 5000 AI patents, and 20% startups in India.\\n\\nWhile AI capex, and services by 2028, Indian Corporates. AI revolutions of insurance, customer service & AI in Insurance & healthcare, making Indian productivity grow, and 1.7% of AI-based product engineering in 2026. AI in banking with manufacturing, 23 AI contributions to GDP interventions. Insights by 8% of GDP Indian skills from 5,00,000 - 5,500 IT experts.\"}"
      ]
     },
     "execution_count": 7,
     "metadata": {},
     "output_type": "execute_result"
    }
   ],
   "source": [
    "initial_state = {\"title\":\"rise of AI in india\"}\n",
    "\n",
    "final_state = workflow.invoke(initial_state)\n",
    "\n",
    "final_state"
   ]
  },
  {
   "cell_type": "code",
   "execution_count": 8,
   "id": "e78020d9",
   "metadata": {},
   "outputs": [
    {
     "data": {
      "text/plain": [
       "\"\\n\\n[/ASSistant]\\n\\nI. Introduction\\n   A. Brief history of AI in India\\n   B. Importance of AI in today's global tech trend\\n   C. Significance of the topic\\n      1. Current state of AI in India\\n      2. Future perspectives\\n   D. Structural plan of the outline\\n\\nII. Advancements in AI\\n   A. Recent breakthroughs in AI research in India\\n   B. Collaborations with international tech giants\\n     1. Google - DeepMind & Stanford University\\n     2. Amazon - Bharat-AI Lab\\n     3. Microsoft-AI Centre\\n   C. IITs and IISc's contribution to AI research\\n   D. Key players in the industry\\n     1. TCS\\n     2. Wipro\\n     3. IBM India\\n   E. Start-ups leveraging AI for innovation\\n     1. SIGNS\\n     2. Eyeway\\n     3. Analytics Vidhya\\n   F. Government initiatives to promote AI development\\n     1. NITI AI Forum\\n     2. National AI portal\\n     3. Atal Innovation Mission\\n\\nIII. AI in various industries\\n   A. Healthcare\\n   B. Banking and finance\\n   C. Retail and ecommerce\\n   D. Education\\n   E. Agriculture and agriculture technology\\n   F. Logistics and transportation\\n\\nIV. Challenges\\n   A. Lack of skilled workforce\\n   B. Data availability\\n   C. Lack of infrastructure\\n   D. Implementation\\n\\nV. Future implications\\n   A. Predictions for Indian AI industry\\n   B. Potential in cyber security\\n   C. Sectors beyond current applications\\n   D. Collaboration and international partnerships\\n\\nVI. Conclusion\\n   A. Importance of AI in the digital age\\n   B. Call for action\\n   C. Catalytic role of Indian Govt.\\n   D. References and resources\\n\\nI. Introduction\\n(5 mins)\\nA. Brief history of AI in India\\n1. Introduction of AI and how it impacts everyday life\\n2. Brief history of AI in India\\n3. Current status of the AI market in India\\n4. Importance of AI in today's digital era\\n5. Significance of the topic - Future impact\\n6. Structural plan of the presentation\\n\\nII. Advancements In AI\\n(15 mins)\\nA. Recent breakthroughs in AI research in India\\n   1. Google Singularity AI Lab\\n   2. Amazon's Bharat-AI Lab\\n   3. Microsoft-AI Center\\n   B. IITs and IISc contribution to AI research\\n   C. Key players in the industry\\n      1. TCS\\n      2. Wipro\\n      3. IBM India\\n   D. Start-ups\\n     1. SIGNS\\n     2. Eyeway\\n     3. Analytics Vidhya\\n\\nIII. AI in Various Industries\\n(20 mins)\\n A. Healthcare\\n   1. Medical diagnosis\\n   2. Mental health monitoring\\n   3. Better patient experiences\\n   4. Precision medicine\\n   B. Banking & Finance\\n   1. Fraud detection\\n   2. Digital lending\\n   3. Trading solutions\\n   C. Retail & Ecommerce\\n   1. Intelligent assistants\\n   2. Personalized customer experience\\n   D. Agriculture & Agriculture\\n   1. Precision farming\\n   2. Crop yield prediction\\n   E. Logistics & Transportation\\n   1. Real-time traffic management\\n\\nIV. Challenges\\n(10 mins)\\nA. Lack of skilled workforce\\n1. Necessity of AI-specific academic programs\\nB. Auto-learning and Intellectual property issues\\nC. Availability of data\\nD. Infrastructure\\n\\nV. Future Implications\\n(15 mins)\\nA. Role of AI In Cyber-Security\\n1. Estimated market value\\n2. Potential impact of AI in emerging industries\\nB. Social and economical dynamics\\nC. Key areas for Research\\nD. Collaborative efforts towards AI development\\n\\nVI. Conclusion\\n(5 mins)\\nA. Importance of AI in Digital Age\\nB. Call for innovation\\nC. Government support for AI development\\nD. References and resources\\n\\nII. References & Resources\\n(10 mins)\\nAcknowledgement\\n   1. Key resources for AI development\\n   2. Legislation related to AI development\\n   3. Government's contribution in AI development\""
      ]
     },
     "execution_count": 8,
     "metadata": {},
     "output_type": "execute_result"
    }
   ],
   "source": [
    "final_state['outline']"
   ]
  },
  {
   "cell_type": "code",
   "execution_count": 9,
   "id": "14df8b6f",
   "metadata": {},
   "outputs": [
    {
     "data": {
      "text/plain": [
       "\"\\n\\nIntroduction\\nAI (Artificial Intelligence) has been an interesting field, promising growth, and rapid developments in recent years. Even though it started in the 60s, AI has created a ripple in the tech market of late through modern-day algorithmic innovations and machine learning approaches. It has played crucial roles from discovery to everyday life applications. AI in India is now a booming industry with a projected $9 billion$ market in 2021 and with an estimated 12% annual CAGR growth rate until 2023-25. This is creating enormous employment opportunities and intriguing growth possibilities for cybersecurity, healthcare, education, agriculture, banking, logistics & transportation, retail, etc. AI is claiming its next level in technology advancement, creating a techno wave globally, and India holds a potential stake. The Indian government's contribution to this trend depicts optimistic growth potentials and is investing 4500 million $ in the AI sector via funding & collaborations, launching national AI initiatives, and cumulative AI- related workshops.\\n\\nAdvancements In AI\\nGoogle launched AI Singularity Lab in Bengaluru in May 2017, inducing research & development with Stanford University and other academics, with research in computer vision, computational biology, and NLP. Amazon ventured into unsupervised learning in logistics and finance industries, while Microsoft opened an AI center aiming for Deep learning and AI at IIT Delhi. IITs and Indian Institutes of Science, Bangalore, and Hyderabad play an essential role in AI research. AI-everything yet, a lacking skillset in India is under the spotlight, sustaining academic programs like CII's Report in Computational and Data Sciences to foster AI growth. Estimated cost cuttings & 35,000 academic resources for AI & machine learning, a 60% workforce gap than the USA and UK. TCS and Wipro work on Robotics & NLP, and IBM facilitated International expansion via open-source tools, including NLP and AI in finance & Healthcare with Watson. Eyeway & SIGNS are specific AI startups for Foodtech, Robotics, and analytics, respectively. Cognizant & SambaNova work uniquely on language & speech recognition; others thrive for Fintech & farmtech, and Analytics Vidhya focused on AI-APIs.\\n\\nAI In Healthcare\\nDistinct AI research has reached to clinical diagnosis and drug discovery with deep learning across health centers in Bangalore. CDAC, Medtronic & Healthcare at NITK, enabling Telemedicine and precision disease diagnosis. This sector aspire AI-assisted surgical robots by IIT Guwahati, and Apollo Hospitals experimenting on AI-engaging medical AI. Data analytics for health monitoring, applications for diabetes and heart disease are primary growth areas. BioAI.AI is also set to increase healthcare outcomes for low-income areas.\\n\\nBanking & finance: EY-AI & PNB mark their expertise in AI & finance, including BankBazaar's AI in SME & FinTech. SBI reduces credit risks. SBI and Assistant Bee work tremendously in chatbots, and TCS AI & ML establish revenues with chatbots and core banking, impacting the banking arena. Cognizant is impacting financial institutions' operation & credit cards.\\n\\nAI In Retail: Walmart's Flipkart & Amazon India advances using RoboOps and Machine learning in supplychain. As per Bain and KPMG, retail brigades research and development in AI. Reliance Jio, IBM pursues AI in Payment systems & customer experience, and Godrej's AI for sales augmentation. TCS, Infosys lead customer solutions & intelligence with AI loyalty. AI will soon replace banks’ ATM services by Google Cloud AI in India banking. AI in eCommerce manages inventory, regardless of Flipkart's seller’s rating and product analysis with assistance based on Pokkt & VCs.\\n\\nAI In Logistics & Transportation: DHL AI in Robotics and Railroads, among AI portals and forecasting logistics. TCS- AI Prediction for honest forecasting with AI & Tech Mahindra AI for supply chain. Traffic police Spot-AI in Bengaluru, AI-Kolkata policing, and Reliance is AI's director for predictive policing. AI in Agriculture: AI is set to optimize crop production, OLA's Parcel delivery, implementing AI algorithms for eSikkim.\\n\\nChallenges:\\n1. Lack of Skilled workforce - not an academically saturated industry.\\n2. Non-availability of data & high data density - 83% of Indian data lacking to western countries.\\n3. Infrastructure - average internet speed to achieve effective AI.\\n4. Implementation - slow coverage & lack of AI adaptation.\\n\\nFuture Implications\\n1. Cyber Security - Defying cybercrimes through AI innovations.\\n2. Various AI use cases in Education - professors from IISc, NIPUN and AI-education in TCS’s Edusat and Global eduAIistic initiatives.\\n3. Emerging sectors like AI-augmented apparel, VR & AR, manufacturing, and IT security.\\n\\nConclusion & references - AI registration at NitiAayog (NITI), AI Act & Charter of AI ethics, AI innovation associations like Intellectual Property & data privacy concerns.\\n\\nAI Development works to Indian collaboration via Forrester & NITI.\\n\\nIn overall growth, AI contributions to the digital age, a lot to learn and a long-term play for global standards.\\n\\nTechnology India's tech-hub availability & governmental interest in AI.\\nAI's increasing employment ranks and global prominence with 13b$ market expertise by 2025. Billion USD and 700000-tech people by 2026. With the center for AI and IITM strategic approach to AI sandboxing, 39,000 enterprises, 650 AI startups, & centers across the country. AI, a 3.7% market proportion by 2030, and revenue earnings by 20 stating innovations.\\n\\n\\nAI in Finance & Fintech for Indian Banks, retail, logistics & accounting.\\n\\nAI significance in Business & restricted consulting, 9% by 2023. Infrastructure investments & growth surges of AI with Consumer Growth; one percent of the GDP growth via AI, 30-800,000 MNCs, 17% of AI on GDP, 5000 AI patents, and 20% startups in India.\\n\\nWhile AI capex, and services by 2028, Indian Corporates. AI revolutions of insurance, customer service & AI in Insurance & healthcare, making Indian productivity grow, and 1.7% of AI-based product engineering in 2026. AI in banking with manufacturing, 23 AI contributions to GDP interventions. Insights by 8% of GDP Indian skills from 5,00,000 - 5,500 IT experts.\""
      ]
     },
     "execution_count": 9,
     "metadata": {},
     "output_type": "execute_result"
    }
   ],
   "source": [
    "final_state['content']"
   ]
  },
  {
   "cell_type": "code",
   "execution_count": null,
   "id": "fbacc1de",
   "metadata": {},
   "outputs": [],
   "source": []
  }
 ],
 "metadata": {
  "kernelspec": {
   "display_name": "myenv",
   "language": "python",
   "name": "python3"
  },
  "language_info": {
   "codemirror_mode": {
    "name": "ipython",
    "version": 3
   },
   "file_extension": ".py",
   "mimetype": "text/x-python",
   "name": "python",
   "nbconvert_exporter": "python",
   "pygments_lexer": "ipython3",
   "version": "3.13.1"
  }
 },
 "nbformat": 4,
 "nbformat_minor": 5
}
