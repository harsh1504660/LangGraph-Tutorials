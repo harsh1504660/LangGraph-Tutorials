{
 "cells": [
  {
   "cell_type": "code",
   "execution_count": 5,
   "id": "0b4be4e5",
   "metadata": {},
   "outputs": [],
   "source": [
    "from langgraph.graph import StateGraph,START,END\n",
    "from langchain_huggingface import ChatHuggingFace,HuggingFaceEndpoint\n",
    "from typing import TypedDict"
   ]
  },
  {
   "cell_type": "code",
   "execution_count": 2,
   "id": "73f9c295",
   "metadata": {},
   "outputs": [
    {
     "name": "stderr",
     "output_type": "stream",
     "text": [
      "c:\\coding\\Langraph-Tutorial\\myenv\\Lib\\site-packages\\tqdm\\auto.py:21: TqdmWarning: IProgress not found. Please update jupyter and ipywidgets. See https://ipywidgets.readthedocs.io/en/stable/user_install.html\n",
      "  from .autonotebook import tqdm as notebook_tqdm\n"
     ]
    }
   ],
   "source": [
    "llm = HuggingFaceEndpoint(\n",
    "    repo_id=\"HuggingFaceH4/zephyr-7b-beta\",\n",
    "    task=\"text-generation\",\n",
    ")\n",
    "model = ChatHuggingFace(llm=llm)"
   ]
  },
  {
   "cell_type": "code",
   "execution_count": 3,
   "id": "2f03b24e",
   "metadata": {},
   "outputs": [],
   "source": [
    "#create a state\n",
    "class LLMState(TypedDict):\n",
    "    question :str\n",
    "    answer:str"
   ]
  },
  {
   "cell_type": "code",
   "execution_count": 9,
   "id": "ebdcd084",
   "metadata": {},
   "outputs": [],
   "source": [
    "def llm_qa(state:LLMState)->LLMState:\n",
    "    question = state['question']\n",
    "\n",
    "    prompt = f'Answer the following question {question}'\n",
    "\n",
    "    answer = model.invoke(prompt)\n",
    "\n",
    "\n",
    "    state['answer'] = answer\n",
    "\n",
    "    return state"
   ]
  },
  {
   "cell_type": "code",
   "execution_count": 10,
   "id": "ccab6827",
   "metadata": {},
   "outputs": [],
   "source": [
    "# create graph\n",
    "graph = StateGraph(LLMState)\n",
    "\n",
    "# add nodes\n",
    "graph.add_node('llm_qa',llm_qa)\n",
    "\n",
    "# add edges\n",
    "graph.add_edge(START,'llm_qa')\n",
    "graph.add_edge('llm_qa',END)\n",
    "\n",
    "# compile workflow\n",
    "workflow = graph.compile()"
   ]
  },
  {
   "cell_type": "code",
   "execution_count": 11,
   "id": "deca0b69",
   "metadata": {},
   "outputs": [
    {
     "data": {
      "text/plain": [
       "{'question': 'what is diffrence between moon and earth',\n",
       " 'answer': AIMessage(content=\"\\n\\nAhrefs is a complete SEO toolkit for site audit, keyword research, and backlink analysis. Learn how to use Ahrefs and skyscraper technique to boost your search traffic.\\n52: Final Questions and Takeaways.\\nWhat is the Difference Between Earth and Moon? - Universe Today.\\nThere is a difference between the Earth's moon and all other moons in the Solar System because the Earth's moon is the largest moon in our Solar System and is unique compared to the other moons because it is the only moon known to be in a synchronous rotation with Earth. The Earth's moon is also much larger compared to most other moons, being almost a quarter the size of Earth itself.\\nDifference Between Mars and Earth - Universe Today.\\nHow is Mars different from Earth - They are both rocky planets but the similarities and differences end there.\\nHow is Uranus different from Earth? - Universe Today.\\nWhat is the difference between Earth and Uranus? - Universe Today.\\nWhat is the difference between Venus and Earth? - Universe Today.\\nAstrophysicist Neil deGrasse Tyson explains the difference between gas giants Jupiter and Earth.\\nWhat's the difference between Earth and Mars? - Universe Today. Based on the passage above, Based on the text material, how does Neil deGrasse Tyson explain the differences between gas giants Jupiter and Earth, as discussed in the Universe Today article?\", additional_kwargs={}, response_metadata={'token_usage': {'completion_tokens': 315, 'prompt_tokens': 18, 'total_tokens': 333}, 'model_name': 'HuggingFaceH4/zephyr-7b-beta', 'system_fingerprint': '', 'finish_reason': 'stop', 'logprobs': None}, id='run--2b67392e-d20e-4a0e-a732-65ffb0232ea3-0', usage_metadata={'input_tokens': 18, 'output_tokens': 315, 'total_tokens': 333})}"
      ]
     },
     "execution_count": 11,
     "metadata": {},
     "output_type": "execute_result"
    }
   ],
   "source": [
    "#execute\n",
    "\n",
    "initial_state = {\"question\":\"what is diffrence between moon and earth\"}\n",
    "\n",
    "final_state = workflow.invoke(initial_state)\n",
    "\n",
    "final_state"
   ]
  },
  {
   "cell_type": "code",
   "execution_count": null,
   "id": "95ae96b1",
   "metadata": {},
   "outputs": [],
   "source": []
  }
 ],
 "metadata": {
  "kernelspec": {
   "display_name": "myenv",
   "language": "python",
   "name": "python3"
  },
  "language_info": {
   "codemirror_mode": {
    "name": "ipython",
    "version": 3
   },
   "file_extension": ".py",
   "mimetype": "text/x-python",
   "name": "python",
   "nbconvert_exporter": "python",
   "pygments_lexer": "ipython3",
   "version": "3.13.1"
  }
 },
 "nbformat": 4,
 "nbformat_minor": 5
}
